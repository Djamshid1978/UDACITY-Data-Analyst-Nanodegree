{
 "cells": [
  {
   "cell_type": "markdown",
   "metadata": {},
   "source": [
    "# Project: Identify Fraud from Enron Email.\n",
    "\n",
    "#### by Djamshid Azizov\n",
    "\n",
    "\n",
    "### Introduction and Overview.\n",
    "\n",
    "In 2000, Enron was one of the largest companies in the United States. By 2002, it had collapsed into bankruptcy due to widespread corporate fraud. In the resulting Federal investigation, a significant amount of typically confidential information entered into the public record, including tens of thousands of emails and detailed financial data for top executives. \n",
    "In this project, I am going to build a person of interest identifier based on financial and email data made public as a result of the Enron scandal.\n",
    "The persons of interest in the fraud case means individuals who were indicted, reached a settlement or plea deal with the government, or testified in exchange for prosecution immunity.\n",
    "\n",
    "### Data source.\n",
    "\n",
    "This  dataset  consists  from  ENRON  emails  and  financial  data publicly available in https://www.cs.cmu.edu/~./enron/.for. It is collected and prepared by the CALO Project (A Cognitive Assistant that Learns and Organizes). The financial data was published in Payments to Insiders report by FindLaw and available at www.findlaw.com\n",
    "\n",
    "###### 1. Summarize for us the goal of this project and how machine learning is useful in trying to accomplish it. As part of your answer, give some background on the dataset and how it can be used to answer the project question. Were there any outliers in the data when you got it, and how did you handle those? \n",
    "\n",
    "There are a few major steps to get the goal of the project.\n",
    "This is following steps:\n",
    "1. The process of data exploration (learning, cleaning and preparing the data).\n",
    "2. Feature selecting/engineering (selecting the features which influence mostly on the target, create new features (which explains the target the better than existing).\n",
    "3. Picking/tuning of the supervised machine learning algorithm \n",
    "4. Validating it to get the accurate person of interest identifier model.\n",
    "\n",
    "The dataset contains about 146 users (18 of them are considered POIs, while 128 are non-POIs) mostly real emails exchanged by top managers of Enron.\n",
    "\n",
    "We can use machine learning on this dataset to answer questions like \"can we identify patterns in the emails?\", using regression we will be able to understand the relationship between the people's salary and their bonuses for example, and using clustering we can identify who was a member of the board of directors, and who is just an employee.\n",
    "\n",
    "The dataset has 21 features, \n",
    "they are poi, salary, bonus,long_term_incentive, deferred_income, deferral_payments, loan_advances, other, expenses, director_fees, total_payments, exercised_stock_options, restricted_stock, restricted_stock_deferred, total_stock_value, to_messages, from_messages, from_this_person_to_poi, from_poi_to_this_person, email_address, shared_receipt_with_poi.\n",
    "                "
   ]
  },
  {
   "cell_type": "code",
   "execution_count": 1,
   "metadata": {
    "collapsed": false
   },
   "outputs": [
    {
     "name": "stderr",
     "output_type": "stream",
     "text": [
      "C:\\Users\\Owner\\Anaconda2\\envs\\py2\\lib\\site-packages\\sklearn\\cross_validation.py:44: DeprecationWarning: This module was deprecated in version 0.18 in favor of the model_selection module into which all the refactored classes and functions are moved. Also note that the interface of the new CV iterators are different from that of this module. This module will be removed in 0.20.\n",
      "  \"This module will be removed in 0.20.\", DeprecationWarning)\n",
      "C:\\Users\\Owner\\Anaconda2\\envs\\py2\\lib\\site-packages\\sklearn\\grid_search.py:43: DeprecationWarning: This module was deprecated in version 0.18 in favor of the model_selection module into which all the refactored classes and functions are moved. This module will be removed in 0.20.\n",
      "  DeprecationWarning)\n"
     ]
    }
   ],
   "source": [
    "#!/usr/bin/python\n",
    "from IPython.display import Image\n",
    "import matplotlib.pyplot as plt\n",
    "import sys\n",
    "import pickle\n",
    "from sklearn import preprocessing\n",
    "from time import time\n",
    "from sklearn.naive_bayes import GaussianNB\n",
    "from sklearn.metrics import accuracy_score\n",
    "from sklearn.grid_search import GridSearchCV\n",
    "from sklearn.metrics import precision_score\n",
    "from sklearn.metrics import recall_score\n",
    "import numpy as np\n",
    "import pandas as pd\n",
    "sys.path.append(\"../tools/\")\n",
    "import pprint\n",
    "\n",
    "from feature_format import featureFormat, targetFeatureSplit\n",
    "from tester import dump_classifier_and_data\n",
    "\n",
    "### Task 1: Select what features you'll use.\n",
    "### features_list is a list of strings, each of which is a feature name.\n",
    "### The first feature must be \"poi\".\n",
    "features_list = ['poi','salary', 'expenses', 'total_stock_value',\n",
    "                 'bonus', 'from_poi_to_this_person', 'shared_receipt_with_poi']\n",
    "\n",
    "\n",
    "### Load the dictionary containing the dataset\n",
    "with open(\"final_project_dataset.pkl\", \"r\") as data_file:\n",
    "    data_dict = pickle.load(data_file)"
   ]
  },
  {
   "cell_type": "markdown",
   "metadata": {},
   "source": [
    "## Data Exploration.\n",
    "\n",
    "First let's check how our data dictionary structered "
   ]
  },
  {
   "cell_type": "code",
   "execution_count": 16,
   "metadata": {
    "collapsed": false
   },
   "outputs": [
    {
     "name": "stdout",
     "output_type": "stream",
     "text": [
      "                        0\n",
      "0              METTS MARK\n",
      "1           BAXTER JOHN C\n",
      "2          ELLIOTT STEVEN\n",
      "3        CORDES WILLIAM R\n",
      "4          HANNON KEVIN P\n",
      "5     MORDAUNT KRISTINA M\n",
      "6        MEYER ROCKFORD G\n",
      "7         MCMAHON JEFFREY\n",
      "8        HORTON STANLEY C\n",
      "9         PIPER GREGORY F\n",
      "10        HUMPHREY GENE E\n",
      "11         UMANOFF ADAM S\n",
      "12      BLACHMAN JEREMY M\n",
      "13           SUNDE MARTIN\n",
      "14           GIBBS DANA R\n",
      "15        LOWRY CHARLES P\n",
      "16         COLWELL WESLEY\n",
      "17          MULLER MARK S\n",
      "18     JACKSON CHARLENE R\n",
      "19     WESTFAHL RICHARD K\n",
      "20       WALTERS GARETH W\n",
      "21      WALLS JR ROBERT H\n",
      "22         KITCHEN LOUISE\n",
      "23            CHAN RONNIE\n",
      "24          BELFER ROBERT\n",
      "25     SHANKMAN JEFFREY A\n",
      "26          WODRASKA JOHN\n",
      "27   BERGSIEKER RICHARD P\n",
      "28        URQUHART JOHN A\n",
      "29        BIBI PHILIPPE A\n",
      "..                    ...\n",
      "116     REYNOLDS LAWRENCE\n",
      "117   DIMICHELE RICHARD G\n",
      "118      BHATNAGAR SANJAY\n",
      "119      CARTER REBECCA C\n",
      "120     BUCHANAN HAROLD G\n",
      "121             YEAP SOON\n",
      "122        MURRAY JULIA H\n",
      "123       GARLAND C KEVIN\n",
      "124          DODSON KEITH\n",
      "125        YEAGER F SCOTT\n",
      "126          HIRKO JOSEPH\n",
      "127      DIETRICH JANET R\n",
      "128   DERRICK JR. JAMES V\n",
      "129        FREVERT MARK A\n",
      "130             PAI LOU L\n",
      "131        BAY FRANKLIN R\n",
      "132   HAYSLETT RODERICK J\n",
      "133           FUGH JOHN L\n",
      "134        FALLON JAMES B\n",
      "135         KOENIG MARK E\n",
      "136          SAVAGE FRANK\n",
      "137       IZZO LAWRENCE L\n",
      "138    TILNEY ELIZABETH A\n",
      "139       MARTIN AMANDA K\n",
      "140         BUY RICHARD B\n",
      "141         GRAMM WENDY L\n",
      "142      CAUSEY RICHARD A\n",
      "143     TAYLOR MITCHELL S\n",
      "144  DONAHUE JR JEFFREY M\n",
      "145       GLISAN JR BEN F\n",
      "\n",
      "[146 rows x 1 columns]\n"
     ]
    }
   ],
   "source": [
    "df = pd.DataFrame.from_dict(data_dict.keys())\n",
    "\n",
    "print df"
   ]
  },
  {
   "cell_type": "code",
   "execution_count": 6,
   "metadata": {
    "collapsed": false
   },
   "outputs": [
    {
     "name": "stdout",
     "output_type": "stream",
     "text": [
      "There are  146  users in Enron Dataset.\n"
     ]
    }
   ],
   "source": [
    "print \"There are \", len(data_dict.keys()), \" users in Enron Dataset.\""
   ]
  },
  {
   "cell_type": "markdown",
   "metadata": {},
   "source": [
    "We can see all features in Enron dataset on the example of real user."
   ]
  },
  {
   "cell_type": "code",
   "execution_count": 12,
   "metadata": {
    "collapsed": false
   },
   "outputs": [
    {
     "name": "stdout",
     "output_type": "stream",
     "text": [
      "                                               0\n",
      "salary                                   1072321\n",
      "to_messages                                 4273\n",
      "deferral_payments                         202911\n",
      "total_payments                         103559793\n",
      "exercised_stock_options                 34348384\n",
      "bonus                                    7000000\n",
      "restricted_stock                        14761694\n",
      "shared_receipt_with_poi                     2411\n",
      "restricted_stock_deferred                    NaN\n",
      "total_stock_value                       49110078\n",
      "expenses                                   99832\n",
      "loan_advances                           81525000\n",
      "from_messages                                 36\n",
      "other                                   10359729\n",
      "from_this_person_to_poi                       16\n",
      "poi                                         True\n",
      "director_fees                                NaN\n",
      "deferred_income                          -300000\n",
      "long_term_incentive                      3600000\n",
      "email_address              kenneth.lay@enron.com\n",
      "from_poi_to_this_person                      123\n"
     ]
    }
   ],
   "source": [
    "df = pd.DataFrame.from_dict(data_dict['LAY KENNETH L'],orient = 'index')\n",
    "print df"
   ]
  },
  {
   "cell_type": "markdown",
   "metadata": {},
   "source": [
    "\n",
    "Above some features have missing values NaNs. According to the financial data from FindLaw,  values NaNs represent values of 0 but not the missing value. That's why I going to replace all NaNs with 0s.\n",
    "\n",
    "\n",
    "Below we can see each feature and how many values it's missing:\n",
    "\n",
    "missing values:  {'salary': 51, 'to_messages': 60, 'deferral_payments': 107, 'total_payments': 21, 'exercised_stock_options': 44, 'bonus': 64, 'director_fees': 129, 'restricted_stock_deferred': 128, 'total_stock_value': 20, 'expenses': 51, 'from_poi_to_this_person': 60, 'loan_advances': 142, 'from_messages': 60, 'other': 53, 'email_address': 35, 'from_this_person_to_poi': 60, 'poi': 0, 'long_term_incentive': 80, 'shared_receipt_with_poi': 60, 'restricted_stock': 36, 'deferred_income': 97}\n",
    "\n",
    "The following features has the biggest missing value. They are;\n",
    "'loan_advances': 142, 'director_fees': 129, 'restricted_stock_deferred': 128. \n",
    "\n",
    "We can't remove these features, as they have meaningful reason for our data. From above example we can see user LAY KENNETH L is a person of interest, and the one who received loan_advances. That's why the information present in the feature with the biggest missing value is relevant to our investigation. "
   ]
  },
  {
   "cell_type": "markdown",
   "metadata": {},
   "source": [
    "## Outlier Investigation \n",
    "\n",
    "To identify outliers in the financial data, we are going to plot and see outlier in salary vs. bonus features.\n"
   ]
  },
  {
   "cell_type": "code",
   "execution_count": 3,
   "metadata": {
    "collapsed": false
   },
   "outputs": [
    {
     "data": {
      "image/png": "[encoded data removed]",
      "text/plain": [
       "<matplotlib.figure.Figure at 0x5ad2320>"
      ]
     },
     "metadata": {},
     "output_type": "display_data"
    }
   ],
   "source": [
    "def scatter_plot(dataset, feature1, feature2):\n",
    "    data = featureFormat(dataset, [feature1, feature2])\n",
    "    for p in data:\n",
    "        x = p[0]\n",
    "        y = p[1]\n",
    "        plt.scatter(x, y)\n",
    "\n",
    "    plt.xlabel(feature1)\n",
    "    plt.ylabel(feature2)\n",
    "    plt.show()\n",
    "    \n",
    "# identify outliers\n",
    "scatter_plot(data_dict, \"salary\", \"bonus\")"
   ]
  },
  {
   "cell_type": "markdown",
   "metadata": {},
   "source": [
    "Using the FindLaw data, we can see two outliers. These are 'total' and 'the travel agency in the park' values. They are not sensible information for our analysis that's why I'm going to remove them. Then after that we will have relatively small number of dataset. Now, It is going to be 144 "
   ]
  },
  {
   "cell_type": "code",
   "execution_count": 11,
   "metadata": {
    "collapsed": false
   },
   "outputs": [
    {
     "data": {
      "image/png": "[encoded data removed]",
      "text/plain": [
       "<matplotlib.figure.Figure at 0xa172dd8>"
      ]
     },
     "metadata": {},
     "output_type": "display_data"
    }
   ],
   "source": [
    "# remove outliers\n",
    "map(data_dict.pop, [\"TOTAL\", \"THE TRAVEL AGENCY IN THE PARK\"])\n",
    "scatter_plot(data_dict, \"salary\", \"bonus\")\n"
   ]
  },
  {
   "cell_type": "markdown",
   "metadata": {},
   "source": [
    "# Optimize Feature Selection/Engineering"
   ]
  },
  {
   "cell_type": "markdown",
   "metadata": {},
   "source": [
    "###### 2. What features did you end up using in your POI identifier, and what selection process did you use to pick them? Did you have to do any scaling? Why or why not? As part of the assignment, you should attempt to engineer your own feature that does not come ready-made in the dataset -- explain what feature you tried to make, and the rationale behind it. (You do not necessarily have to use it in the final analysis, only engineer and test it.) In your feature selection step, if you used an algorithm like a decision tree, please also give the feature importances of the features that you use, and if you used an automated feature selection function like SelectKBest, please report the feature scores and reasons for your choice of parameter values.  "
   ]
  },
  {
   "cell_type": "markdown",
   "metadata": {},
   "source": [
    "## Create new features.\n",
    "\n",
    "In the dataset there are the number of emails sent to POI’s and received from POI’s for most of the employees. If an employees sent or received from POI's a lot of emails so then the quantity of them would be large as well. This is why I created these two new features: - fraction_from_poi, which represents the ratio of the messages from poi to this person against all messages sent to this person, and fraction_to_poi, ratio from this person to poi against all messages from this person. \n",
    "\n",
    "This code computes the fraction of messages to/from that person that are from/to a POI, given a number of messages to/from POI (numerator) and number of all messages to/from a person (denominator).\n",
    "\n"
   ]
  },
  {
   "cell_type": "code",
   "execution_count": null,
   "metadata": {
    "collapsed": true
   },
   "outputs": [],
   "source": [
    "# create new features\n",
    "def computeFraction(poi_messages, all_messages):\n",
    "    fraction = 0\n",
    "    if poi_messages != 'NaN' and all_messages != 'NaN':\n",
    "        fraction = poi_messages/float(all_messages)\n",
    "\n",
    "    return fraction\n",
    "\n",
    "# take second element for sort\n",
    "def takeSecond(elem):\n",
    "    return elem[1]\n",
    "\n",
    "for employee in my_dataset:\n",
    "    from_poi_to_this_person = my_dataset[employee]['from_poi_to_this_person']\n",
    "    to_messages = my_dataset[employee]['to_messages']\n",
    "    fraction_from_poi = computeFraction(from_poi_to_this_person, to_messages)\n",
    "    # print fraction_from_poi\n",
    "    my_dataset[employee]['fraction_from_poi'] = fraction_from_poi\n",
    "\n",
    "    from_this_person_to_poi = my_dataset[employee]['from_this_person_to_poi']\n",
    "    from_messages = my_dataset[employee]['from_messages']\n",
    "    fraction_to_poi = computeFraction(from_this_person_to_poi, from_messages)\n",
    "    my_dataset[employee]['fraction_to_poi'] = fraction_to_poi\n",
    "\n",
    "new_features_list = total_number_of_features \n",
    "new_features_list.remove('email_address')\n",
    "new_features_list =  new_features_list + ['fraction_from_poi', 'fraction_to_poi']\n",
    "print new_features_list\n",
    "\n",
    "print 'total number of features after creating new features = ', len(new_features_list)\n"
   ]
  },
  {
   "cell_type": "markdown",
   "metadata": {},
   "source": [
    "I used the above code to calculate the fraction for each employee in dataset, and then I added them to the features_list, to pass the SelectKBest function for features selection.\n"
   ]
  },
  {
   "cell_type": "markdown",
   "metadata": {},
   "source": [
    "## Univariate Feature Selection\n",
    "\n",
    "Univariate feature selection works by selecting the best features based on univariate statistical tests. It can be seen as a preprocessing step to an estimator.\n",
    "In order to choose the best features, I used SelectKBest(an automated feature selection function), which selects the k highest scoring features. Then the function returned the below scores for all the features.\n",
    "\n",
    "### SelectKBest scores:  \n",
    "[('exercised_stock_options', 24.815079733218194),\n",
    "('total_stock_value', 24.182898678566879), \n",
    "('bonus', 20.792252047181535), \n",
    "('salary', 18.289684043404513),\n",
    "('fraction_to_poi', 16.409712548035792),\n",
    "('deferred_income', 11.458476579280369),\n",
    "('long_term_incentive', 9.9221860131898225),\n",
    "('restricted_stock', 9.2128106219771002),\n",
    "('total_payments', 8.7727777300916756),\n",
    "('shared_receipt_with_poi', 8.589420731682381),\n",
    "('loan_advances', 7.1840556582887247), \n",
    "('expenses', 6.0941733106389453), \n",
    "('from_poi_to_this_person', 5.2434497133749582), \n",
    "('other', 4.1874775069953749), \n",
    "('fraction_from_poi', 3.1280917481567192), \n",
    "('from_this_person_to_poi', 2.3826121082276739),\n",
    "('director_fees', 2.1263278020077054), \n",
    "('to_messages', 1.6463411294420076), \n",
    "('deferral_payments', 0.22461127473600989), \n",
    "('from_messages', 0.16970094762175533),\n",
    "('restricted_stock_deferred', 0.065499652909942141)]\n"
   ]
  },
  {
   "cell_type": "markdown",
   "metadata": {},
   "source": [
    "I took the first 10 features (k = 10) along with POI as they obtained the highest scores from SelectKBest results. "
   ]
  },
  {
   "cell_type": "markdown",
   "metadata": {},
   "source": [
    "## Properly scale features\n",
    "\n",
    "Since our selected features have different values, I need to transform them. I am using MinMaxScaler from sklearn to scale all our selected features to a given range."
   ]
  },
  {
   "cell_type": "code",
   "execution_count": null,
   "metadata": {
    "collapsed": true
   },
   "outputs": [],
   "source": [
    "# Features scaling\n",
    "# dataset without new features\n",
    "from sklearn import preprocessing\n",
    "data = featureFormat(my_dataset, kBest_features, sort_keys = True)\n",
    "labels, features = targetFeatureSplit(data)\n",
    "scaler = preprocessing.MinMaxScaler()\n",
    "features = scaler.fit_transform(features)\n"
   ]
  },
  {
   "cell_type": "markdown",
   "metadata": {},
   "source": [
    "# Pick and Tune an Algorithm\n",
    "\n",
    "###### What algorithm did you end up using? What other one(s) did you try? How did model performance differ between algorithms?  "
   ]
  },
  {
   "cell_type": "markdown",
   "metadata": {},
   "source": [
    "I tried to use algorithms Gaussian Naive-Bayes, Decision Tree Classifier, Support vector machines Then ended up using Gaussian Naive-Bayes as it scored the highest evaluation metrics.\n",
    "\n",
    "The scores obtained for them are as follows:\n",
    "\n",
    "## NAIVE BAYES \n",
    "##### original features\n",
    "accuracy: 0.840697674419\n",
    "precision: 0.373100198413\n",
    "recall: 0.326122835498\n",
    "##### new features \n",
    "accuracy: 0.834302325581\n",
    "precision: 0.356977362915\n",
    "recall: 0.318538510101\n",
    "## DECISION TREE \n",
    "#####  original features \n",
    "accuracy: 0.800872093023\n",
    "precision: 0.268834776335\n",
    "recall: 0.271361381674\n",
    "#####  new features \n",
    "accuracy: 0.815406976744\n",
    "precision: 0.2933746115\n",
    "recall: 0.306416396104\n",
    "## SVM \n",
    "##### original features \n",
    "accuracy: 0.860755813953\n",
    "precision: 0.159375\n",
    "recall: 0.0740029761905\n",
    "##### new features \n",
    "accuracy: 0.85988372093\n",
    "precision: 0.195814393939\n",
    "recall: 0.0668700396825\n",
    "\n",
    "We can also notice from above scores, that matching the performance of each algorithm with the original features (without new features) to the performance while adding the new features differs from each other. \n",
    "As we can see algorithm Decision Tree performed better while including the new features, but algorithms Naive Bayes and SVM performed worse with the new features.\n"
   ]
  },
  {
   "cell_type": "markdown",
   "metadata": {},
   "source": [
    "##### What does it mean to tune the parameters of an algorithm, and what can happen if you don’t do this well?  How did you tune the parameters of your particular algorithm? What parameters did you tune? (Some algorithms do not have parameters that you need to tune -- if this is the case for the one you picked, identify and briefly explain how you would have done it for the model that was not your final choice or a different model that does utilize parameter tuning, e.g. a decision tree classifier).  "
   ]
  },
  {
   "cell_type": "markdown",
   "metadata": {},
   "source": [
    "A crucial part of selecting a machine learning algorithm is to adjust it’s parameters in order to maximize the evaluation metrics. If the parameters are not properly tuned, the algorithm can underfit or overfit the data, therefore producing not the best results.\n",
    "Most classifiers come with a set of parameters (with default values) which affect the model, and are passed as arguments to the constructor. Typical examples include C, kernel and gamma for SVM Classifier for example. Tuning the parameters of a classifier (usually referred to as hyperparameters) means to optimize the values of those parameters to enable the algorithm to perform its best (Hyperparameter Optimization). It's a final step in the process of applied machine learning before presenting results. If this step is not done well, it can lead to the model misfitting the data.\n",
    "\n"
   ]
  },
  {
   "cell_type": "markdown",
   "metadata": {},
   "source": [
    "## Tune the algorithm\n",
    "\n",
    "I used GridSearchCV from sklearn for parameter tuning in the algorithms that had parameters (SVM, Decision Tree). Grid search is an approach to parameter tuning that will methodically build and evaluate a model for each combination of algorithm parameters specified in a grid.\n",
    "\n",
    "I created the below code to tune the algorithm using grid search. It prints out the best hyperparameters for the model after performing the tuning for 80 iterations, along with the average evaluation metrics results (accuracy, percision, recall).\n",
    "\n",
    "\n"
   ]
  },
  {
   "cell_type": "code",
   "execution_count": null,
   "metadata": {
    "collapsed": true
   },
   "outputs": [],
   "source": [
    "# Algorithm tuning\n",
    "from sklearn.cross_validation import train_test_split\n",
    "from sklearn.metrics import accuracy_score, precision_score, recall_score\n",
    "\n",
    "def tune_params(grid_search, features, labels, params, iters = 80):\n",
    "    acc = []\n",
    "    pre = []\n",
    "    recall = []\n",
    "    for i in range(iters):\n",
    "        features_train, features_test, labels_train, labels_test = \\\n",
    "        train_test_split(features, labels, test_size = 0.3, random_state = i)\n",
    "        grid_search.fit(features_train, labels_train)\n",
    "        predicts = grid_search.predict(features_test)\n",
    "\n",
    "        acc = acc + [accuracy_score(labels_test, predicts)] \n",
    "        pre = pre + [precision_score(labels_test, predicts)]\n",
    "        recall = recall + [recall_score(labels_test, predicts)]\n",
    "    print \"accuracy: {}\".format(np.mean(acc))\n",
    "    print \"precision: {}\".format(np.mean(pre))\n",
    "    print \"recall: {}\".format(np.mean(recall))\n",
    "\n",
    "    best_params = grid_search.best_estimator_.get_params()\n",
    "    for param_name in params.keys():\n",
    "        print(\"%s = %r, \" % (param_name, best_params[param_name]))\n"
   ]
  },
  {
   "cell_type": "markdown",
   "metadata": {},
   "source": [
    "#### Tuning Decision Tree Classifier\n"
   ]
  },
  {
   "cell_type": "code",
   "execution_count": null,
   "metadata": {
    "collapsed": true
   },
   "outputs": [],
   "source": [
    "# Decision Tree\n",
    "from sklearn import tree\n",
    "DT_clf = tree.DecisionTreeClassifier()\n",
    "DT_param = {'criterion':('gini', 'entropy'),\n",
    "'splitter':('best','random')}\n",
    "DT_grid_search = GridSearchCV(estimator = DT_clf, param_grid = DT_param)\n",
    "\n"
   ]
  },
  {
   "cell_type": "markdown",
   "metadata": {},
   "source": [
    "#### Support Vector Machines Classifier"
   ]
  },
  {
   "cell_type": "code",
   "execution_count": null,
   "metadata": {
    "collapsed": true
   },
   "outputs": [],
   "source": [
    "# Support Vector Machines\n",
    "from sklearn import svm\n",
    "SVM_clf = svm.SVC()\n",
    "SVM_param = {'kernel':('linear', 'rbf', 'sigmoid'),\n",
    "'gamma': [1, 0.1, 0.01, 0.001, 0.0001],\n",
    "'C': [0.1, 1, 10, 100, 1000]}\n",
    "SVM_grid_search = GridSearchCV(estimator = SVM_clf, param_grid = SVM_param)\n",
    "\n"
   ]
  },
  {
   "cell_type": "markdown",
   "metadata": {},
   "source": [
    "## Validate and Evaluate\n",
    "\n",
    "###### What is validation, and what’s a classic mistake you can make if you do it wrong? How did you validate your analysis?  \n"
   ]
  },
  {
   "cell_type": "markdown",
   "metadata": {},
   "source": [
    "Validation is a strategy  to separate our data into trainig and testing dataset initially. This allows us to train our model on a training dataset and then test that model on an independent test dataset. This reduces the problem of over fitting our model to the dataset that we initially trained it on. if we only tested the model on our trainnig dataset we wouldn't know how well our model would perform on a new, unknown dataset. While validating on test set, if we got much poorer results we would know that there is a chance overfitted our model to the training dataset. \n",
    "I used tester.py's Stratified Shuffle Split cross validation as an alternate method to gauge my algorithm's performance. Because the Enron data set is so small, this type of cross validation was useful because it essentially created multiple datasets out of a single one to get more accurate results.\n",
    "Using Cross Validation train_test_split function I splitted 30% of my dataset as for testing, while the training set was 70%. then I used sklearn.metrics accuracy, precision and recall scores to validate my algorithms.\n",
    "\n"
   ]
  },
  {
   "cell_type": "code",
   "execution_count": null,
   "metadata": {
    "collapsed": true
   },
   "outputs": [],
   "source": [
    "from sklearn.cross_validation import train_test_split\n",
    "features_train, features_test, labels_train, labels_test = \\\n",
    "        train_test_split(features, labels, test_size = 0.3, random_state = 42)\n",
    "\n",
    "from sklearn.metrics import accuracy_score, precision_score, recall_score\n",
    "accuracy_score(labels_test, predicts)\n",
    "precision_score(labels_test, predicts)\n",
    "recall_score(labels_test, predicts)"
   ]
  },
  {
   "cell_type": "markdown",
   "metadata": {},
   "source": [
    "###### Give at least 2 evaluation metrics and your average performance for each of them.  Explain an interpretation of your metrics that says something human-understandable about your algorithm’s performance. "
   ]
  },
  {
   "cell_type": "markdown",
   "metadata": {},
   "source": [
    "The two notable evaluation metrics for this POI identifier are precision and recall. \n",
    "\n",
    "My chosen algorithm is Naive Bayes, which resulted in  precision of 0.36639 and recall of 0.31400. \n",
    "\n",
    "#### Precision\n",
    "\n",
    "True Positive / (True Positive + False Positive). Out of all the items labeled as positive, how many truly belong to the positive class.\n",
    "\n",
    "#### Recall\n",
    "\n",
    "True Positive / (True Positive + False Negative). Out of all the items that are truly positive, how many were correctly classified as positive. Or simply, how many positive items were 'recalled' from the dataset.\n",
    "\n",
    "In the context to this project:\n",
    "\n",
    "Precision is a metric that measures an algorithm's power to classify true positives from all cases that are classified as positives. A precision of 0.36 means that among the total 100 persons classified as POIs, 36 persons are actually POIs. Recall is a metric that measures an algorithm's power to classify true positives over all cases that are actually positives. A recall of 0.31 means that among 100 true POIs existing in the dataset, 31 POIs are correctly classified as POIs\n",
    "\n"
   ]
  },
  {
   "cell_type": "code",
   "execution_count": null,
   "metadata": {
    "collapsed": true
   },
   "outputs": [],
   "source": []
  }
 ],
 "metadata": {
  "celltoolbar": "Raw Cell Format",
  "kernelspec": {
   "display_name": "Python [conda env:py2]",
   "language": "python",
   "name": "conda-env-py2-py"
  },
  "language_info": {
   "codemirror_mode": {
    "name": "ipython",
    "version": 2
   },
   "file_extension": ".py",
   "mimetype": "text/x-python",
   "name": "python",
   "nbconvert_exporter": "python",
   "pygments_lexer": "ipython2",
   "version": "2.7.13"
  }
 },
 "nbformat": 4,
 "nbformat_minor": 2
}
